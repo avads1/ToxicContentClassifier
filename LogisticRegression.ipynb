{
  "nbformat": 4,
  "nbformat_minor": 0,
  "metadata": {
    "kernelspec": {
      "display_name": "Python 3",
      "language": "python",
      "name": "python3"
    },
    "language_info": {
      "codemirror_mode": {
        "name": "ipython",
        "version": 3
      },
      "file_extension": ".py",
      "mimetype": "text/x-python",
      "name": "python",
      "nbconvert_exporter": "python",
      "pygments_lexer": "ipython3",
      "version": "3.7.6"
    },
    "colab": {
      "name": "1_LogisticRegression_Colab.ipynb",
      "provenance": [],
      "collapsed_sections": []
    }
  },
  "cells": [
    {
      "cell_type": "code",
      "metadata": {
        "id": "gheM8mvwqHH8",
        "colab_type": "code",
        "colab": {}
      },
      "source": [
        "import numpy as np\n",
        "import pandas as pd\n",
        "from sklearn.feature_extraction.text import TfidfVectorizer\n",
        "from sklearn.linear_model import LogisticRegression\n",
        "from sklearn.model_selection import cross_val_score\n",
        "from scipy.sparse import hstack\n",
        "from sklearn.model_selection import train_test_split\n",
        "\n",
        "class_names = ['toxic']\n",
        "train = pd.read_csv('train.csv').fillna(' ')\n",
        "test = pd.read_csv('test.csv').fillna(' ')\n",
        "\n",
        "train_text = train['comment_text']\n",
        "test_text = test['comment_text']\n",
        "all_text = pd.concat([train_text, test_text])\n",
        "\n",
        "word_vectorizer = TfidfVectorizer(\n",
        "    sublinear_tf=True,\n",
        "    strip_accents='unicode',\n",
        "    analyzer='word',\n",
        "    token_pattern=r'\\w{1,}',\n",
        "    stop_words='english',\n",
        "    ngram_range=(1, 1),\n",
        "    max_features=10000)\n",
        "word_vectorizer.fit(all_text)\n",
        "train_features = word_vectorizer.transform(train_text)\n",
        "test_features = word_vectorizer.transform(test_text)\n",
        "\n",
        "train_target = train['toxic']\n",
        "\n",
        "X_train, X_test, Y_train, Y_test = train_test_split( train_features, train_target, test_size=0.2, random_state=42)"
      ],
      "execution_count": 0,
      "outputs": []
    },
    {
      "cell_type": "code",
      "metadata": {
        "id": "l-vau_EmqHIJ",
        "colab_type": "code",
        "colab": {}
      },
      "source": [
        "##Logistic Regression"
      ],
      "execution_count": 0,
      "outputs": []
    },
    {
      "cell_type": "code",
      "metadata": {
        "id": "wLyM_wawqHIS",
        "colab_type": "code",
        "colab": {}
      },
      "source": [
        "classifier = LogisticRegression(C=0.1, solver='sag')\n",
        "classifier.fit(X_train, Y_train)\n",
        "predictions = classifier.predict_proba(X_test)[:, 1]"
      ],
      "execution_count": 0,
      "outputs": []
    },
    {
      "cell_type": "code",
      "metadata": {
        "id": "-SR539bfqHIa",
        "colab_type": "code",
        "outputId": "6791e467-c2fe-4e72-d478-98b092c7c963",
        "colab": {
          "base_uri": "https://localhost:8080/",
          "height": 313
        }
      },
      "source": [
        "from sklearn.metrics import confusion_matrix, roc_curve, roc_auc_score, classification_report, accuracy_score\n",
        "print(\"roc_curve {}\".format(roc_auc_score(Y_test,predictions)));\n",
        "##True and False Positive Rates\n",
        "fpr, tpr,_=roc_curve(Y_test,predictions)\n",
        "import matplotlib.pyplot as plt\n",
        "plt.figure()\n",
        "plt.plot(fpr, tpr, color='red',\n",
        " lw=2, label='ROC curve')\n",
        "plt.plot([0, 1], [0, 1], color='blue', lw=2, linestyle='--')\n",
        "plt.xlabel('FPR')\n",
        "plt.ylabel('TPR')\n",
        "plt.title('ROC curve')\n",
        "plt.show()"
      ],
      "execution_count": 0,
      "outputs": [
        {
          "output_type": "stream",
          "text": [
            "roc_curve 0.9576519724263249\n"
          ],
          "name": "stdout"
        },
        {
          "output_type": "display_data",
          "data": {
            "image/png": "[encoded data removed]",
            "text/plain": [
              "<Figure size 432x288 with 1 Axes>"
            ]
          },
          "metadata": {
            "tags": [],
            "needs_background": "light"
          }
        }
      ]
    },
    {
      "cell_type": "code",
      "metadata": {
        "id": "lz8PM4kaqHIl",
        "colab_type": "code",
        "outputId": "83a219b0-f4e6-4828-982d-317b8f3c2bc2",
        "colab": {
          "base_uri": "https://localhost:8080/",
          "height": 317
        }
      },
      "source": [
        "for i in range(len(predictions)):\n",
        "    if predictions[i]>0.5:\n",
        "        predictions[i] = 1\n",
        "    else:\n",
        "        predictions[i] = 0\n",
        "\n",
        "print(\"accuracy {}\".format(accuracy_score(Y_test,predictions)));\n",
        "\n",
        "print(classification_report(Y_test, predictions))\n",
        "pd.DataFrame(confusion_matrix(Y_test, predictions),\n",
        "   index = [['Actual', 'Actual'], ['Not Toxic', 'Toxic']],\n",
        "   columns = [['Predicted', 'Predicted'], ['Not Toxic', 'Toxic']])\n",
        "\n"
      ],
      "execution_count": 0,
      "outputs": [
        {
          "output_type": "stream",
          "text": [
            "accuracy 0.9374588751370829\n",
            "              precision    recall  f1-score   support\n",
            "\n",
            "           0       0.94      1.00      0.97     28859\n",
            "           1       0.98      0.36      0.52      3056\n",
            "\n",
            "    accuracy                           0.94     31915\n",
            "   macro avg       0.96      0.68      0.74     31915\n",
            "weighted avg       0.94      0.94      0.92     31915\n",
            "\n"
          ],
          "name": "stdout"
        },
        {
          "output_type": "execute_result",
          "data": {
            "text/html": [
              "<div>\n",
              "<style scoped>\n",
              "    .dataframe tbody tr th:only-of-type {\n",
              "        vertical-align: middle;\n",
              "    }\n",
              "\n",
              "    .dataframe tbody tr th {\n",
              "        vertical-align: top;\n",
              "    }\n",
              "\n",
              "    .dataframe thead tr th {\n",
              "        text-align: left;\n",
              "    }\n",
              "</style>\n",
              "<table border=\"1\" class=\"dataframe\">\n",
              "  <thead>\n",
              "    <tr>\n",
              "      <th></th>\n",
              "      <th></th>\n",
              "      <th colspan=\"2\" halign=\"left\">Predicted</th>\n",
              "    </tr>\n",
              "    <tr>\n",
              "      <th></th>\n",
              "      <th></th>\n",
              "      <th>Not Toxic</th>\n",
              "      <th>Toxic</th>\n",
              "    </tr>\n",
              "  </thead>\n",
              "  <tbody>\n",
              "    <tr>\n",
              "      <th rowspan=\"2\" valign=\"top\">Actual</th>\n",
              "      <th>Not Toxic</th>\n",
              "      <td>28832</td>\n",
              "      <td>27</td>\n",
              "    </tr>\n",
              "    <tr>\n",
              "      <th>Toxic</th>\n",
              "      <td>1969</td>\n",
              "      <td>1087</td>\n",
              "    </tr>\n",
              "  </tbody>\n",
              "</table>\n",
              "</div>"
            ],
            "text/plain": [
              "                 Predicted      \n",
              "                 Not Toxic Toxic\n",
              "Actual Not Toxic     28832    27\n",
              "       Toxic          1969  1087"
            ]
          },
          "metadata": {
            "tags": []
          },
          "execution_count": 18
        }
      ]
    },
    {
      "cell_type": "code",
      "metadata": {
        "id": "CkqZirxcqTSF",
        "colab_type": "code",
        "outputId": "a1946983-155b-44cd-d17f-9c57ec7c3be4",
        "colab": {
          "base_uri": "https://localhost:8080/",
          "height": 283
        }
      },
      "source": [
        "import pandas as pd\n",
        "data = pd.read_csv('/content/TestFile.csv')\n",
        "data = data.values\n",
        "X_train = data[0:14,0]\n",
        "print(X_train)\n",
        "encoded = word_vectorizer.transform(X_train)\n",
        "predictions = classifier.predict(encoded)\n",
        "for i in range(len(predictions)):\n",
        "    if predictions[i]>0.5:\n",
        "        predictions[i] = 1\n",
        "    else:\n",
        "        predictions[i] = 0\n",
        "\n",
        "print(predictions)"
      ],
      "execution_count": 0,
      "outputs": [
        {
          "output_type": "stream",
          "text": [
            "['I do not think you are a bad human being your circumstances made you that '\n",
            " 'He had killed many people in the past and would continue to kill if we do not do somehing about it'\n",
            " 'You need some help, his retaeded brother was brave enough to serve in the military '\n",
            " 'The word fuck is very inappropriate please refrain from using. It leaves a bad impression.'\n",
            " 'The murder rates for those cities are high I would suggest looking after your family. These psychopaths are dagerous, keep yourself safe.'\n",
            " 'In a time were rape and harassment are widespread, we need to stand up againt the bullies.'\n",
            " 'I will kill your faimily, nice good wonderful.'\n",
            " \"Slavery is forbidden in Islam?  That seems to run counter to history.  Weren't the Mamluks, simply to mention one group, former slaves?\"\n",
            " 'The original Homophobia in the Black Diasporic community article is god awful.  So I moved that articles information here.'\n",
            " 'refuse to be open to other people and ideas'\n",
            " 'The anus is, in fact, part of the penis.'\n",
            " 'whoever decided to be an idiot with this shared IP.'\n",
            " \"He vandalises lots of pages regularly. It's frustrating if he is adding useful info to cricket stuff, but most of what he does is a deliberate, malicious annoyance and I don't like the idea of encouraging him by promoting his articles  especially if he's the only source for them. Most of the stuff he does is absurdly trivial anyway; tiny stubs on non-notable cricketers.\"]\n",
            "[0 0 0 0 0 0 0 0 0 0 0 1 0]\n"
          ],
          "name": "stdout"
        }
      ]
    }
  ]
}