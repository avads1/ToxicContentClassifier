{
  "nbformat": 4,
  "nbformat_minor": 0,
  "metadata": {
    "kernelspec": {
      "display_name": "Python 3",
      "language": "python",
      "name": "python3"
    },
    "language_info": {
      "codemirror_mode": {
        "name": "ipython",
        "version": 3
      },
      "file_extension": ".py",
      "mimetype": "text/x-python",
      "name": "python",
      "nbconvert_exporter": "python",
      "pygments_lexer": "ipython3",
      "version": "3.7.6"
    },
    "colab": {
      "name": "1_NaiveBayes_Colab.ipynb",
      "provenance": [],
      "collapsed_sections": []
    }
  },
  "cells": [
    {
      "cell_type": "code",
      "metadata": {
        "id": "Dz2UU_UIqKGL",
        "colab_type": "code",
        "colab": {}
      },
      "source": [
        "#Naive Bayes"
      ],
      "execution_count": 0,
      "outputs": []
    },
    {
      "cell_type": "code",
      "metadata": {
        "id": "hpUSeLBrqKGb",
        "colab_type": "code",
        "colab": {}
      },
      "source": [
        "import numpy as np\n",
        "import pandas as pd\n",
        "\n",
        "from sklearn.feature_extraction.text import TfidfVectorizer\n",
        "from sklearn.linear_model import LogisticRegression\n",
        "from sklearn.model_selection import cross_val_score\n",
        "from scipy.sparse import hstack\n",
        "from sklearn.model_selection import train_test_split\n",
        "\n",
        "class_names = ['toxic']\n",
        "\n",
        "train = pd.read_csv('train.csv').fillna(' ')\n",
        "test = pd.read_csv('test.csv').fillna(' ')\n",
        "\n",
        "train_text = train['comment_text']\n",
        "test_text = test['comment_text']\n",
        "all_text = pd.concat([train_text, test_text])\n",
        "\n",
        "word_vectorizer = TfidfVectorizer(\n",
        "    sublinear_tf=True,\n",
        "    strip_accents='unicode',\n",
        "    analyzer='word',\n",
        "    token_pattern=r'\\w{1,}',\n",
        "    stop_words='english',\n",
        "    ngram_range=(1, 1),\n",
        "    max_features=10000)\n",
        "word_vectorizer.fit(all_text)\n",
        "train_features = word_vectorizer.transform(train_text)\n",
        "test_features = word_vectorizer.transform(test_text)\n",
        "\n",
        "train_target = train['toxic']\n",
        "\n",
        "X_train, X_test, Y_train, Y_test = train_test_split( train_features, train_target, test_size=0.2, random_state=42)"
      ],
      "execution_count": 0,
      "outputs": []
    },
    {
      "cell_type": "code",
      "metadata": {
        "id": "QwDfl8-RqKGn",
        "colab_type": "code",
        "colab": {}
      },
      "source": [
        "from sklearn.naive_bayes import MultinomialNB\n",
        "from sklearn.metrics import precision_recall_fscore_support\n",
        "from sklearn.metrics import confusion_matrix, roc_curve, roc_auc_score, classification_report, accuracy_score, precision_recall_fscore_support\n",
        "\n",
        "gnb = MultinomialNB()\n",
        "gnb.fit(X_train, Y_train)\n",
        "predictions = gnb.predict(X_test)"
      ],
      "execution_count": 0,
      "outputs": []
    },
    {
      "cell_type": "code",
      "metadata": {
        "id": "Y6oeiT33qKGz",
        "colab_type": "code",
        "outputId": "83a18a0a-2260-4647-b045-f0fe379f1982",
        "colab": {
          "base_uri": "https://localhost:8080/",
          "height": 317
        }
      },
      "source": [
        "print(\"accuracy {}\".format(accuracy_score(Y_test,predictions)))\n",
        "print(classification_report(Y_test, predictions))\n",
        "pd.DataFrame(confusion_matrix(Y_test, predictions),\n",
        "   index = [['Actual', 'Actual'], ['Not Toxic', 'Toxic']],\n",
        "   columns = [['Predicted', 'Predicted'], ['Not Toxic', 'Toxic']])"
      ],
      "execution_count": 0,
      "outputs": [
        {
          "output_type": "stream",
          "text": [
            "accuracy 0.949114836283879\n",
            "              precision    recall  f1-score   support\n",
            "\n",
            "           0       0.95      1.00      0.97     28859\n",
            "           1       0.92      0.51      0.66      3056\n",
            "\n",
            "    accuracy                           0.95     31915\n",
            "   macro avg       0.94      0.75      0.82     31915\n",
            "weighted avg       0.95      0.95      0.94     31915\n",
            "\n"
          ],
          "name": "stdout"
        },
        {
          "output_type": "execute_result",
          "data": {
            "text/html": [
              "<div>\n",
              "<style scoped>\n",
              "    .dataframe tbody tr th:only-of-type {\n",
              "        vertical-align: middle;\n",
              "    }\n",
              "\n",
              "    .dataframe tbody tr th {\n",
              "        vertical-align: top;\n",
              "    }\n",
              "\n",
              "    .dataframe thead tr th {\n",
              "        text-align: left;\n",
              "    }\n",
              "</style>\n",
              "<table border=\"1\" class=\"dataframe\">\n",
              "  <thead>\n",
              "    <tr>\n",
              "      <th></th>\n",
              "      <th></th>\n",
              "      <th colspan=\"2\" halign=\"left\">Predicted</th>\n",
              "    </tr>\n",
              "    <tr>\n",
              "      <th></th>\n",
              "      <th></th>\n",
              "      <th>Not Toxic</th>\n",
              "      <th>Toxic</th>\n",
              "    </tr>\n",
              "  </thead>\n",
              "  <tbody>\n",
              "    <tr>\n",
              "      <th rowspan=\"2\" valign=\"top\">Actual</th>\n",
              "      <th>Not Toxic</th>\n",
              "      <td>28726</td>\n",
              "      <td>133</td>\n",
              "    </tr>\n",
              "    <tr>\n",
              "      <th>Toxic</th>\n",
              "      <td>1491</td>\n",
              "      <td>1565</td>\n",
              "    </tr>\n",
              "  </tbody>\n",
              "</table>\n",
              "</div>"
            ],
            "text/plain": [
              "                 Predicted      \n",
              "                 Not Toxic Toxic\n",
              "Actual Not Toxic     28726   133\n",
              "       Toxic          1491  1565"
            ]
          },
          "metadata": {
            "tags": []
          },
          "execution_count": 13
        }
      ]
    },
    {
      "cell_type": "code",
      "metadata": {
        "id": "vBoUJujbt8tj",
        "colab_type": "code",
        "outputId": "5695e7c4-a497-4eec-f131-dc4c2de25d68",
        "colab": {
          "base_uri": "https://localhost:8080/",
          "height": 283
        }
      },
      "source": [
        "import pandas as pd\n",
        "data = pd.read_csv('/content/TestFile.csv')\n",
        "\n",
        "data = data.values\n",
        "X_train = data[0:14,0]\n",
        "print(X_train)\n",
        "encoded = word_vectorizer.transform(X_train)\n",
        "predictions = gnb.predict(encoded)\n",
        "for i in range(len(predictions)):\n",
        "    if predictions[i]>0.5:\n",
        "        predictions[i] = 1\n",
        "    else:\n",
        "        predictions[i] = 0\n",
        "\n",
        "print(predictions)"
      ],
      "execution_count": 0,
      "outputs": [
        {
          "output_type": "stream",
          "text": [
            "['I do not think you are a bad human being your circumstances made you that '\n",
            " 'He had killed many people in the past and would continue to kill if we do not do somehing about it'\n",
            " 'You need some help, his retaeded brother was brave enough to serve in the military '\n",
            " 'The word fuck is very inappropriate please refrain from using. It leaves a bad impression.'\n",
            " 'The murder rates for those cities are high I would suggest looking after your family. These psychopaths are dagerous, keep yourself safe.'\n",
            " 'In a time were rape and harassment are widespread, we need to stand up againt the bullies.'\n",
            " 'I will kill your faimily, nice good wonderful.'\n",
            " \"Slavery is forbidden in Islam?  That seems to run counter to history.  Weren't the Mamluks, simply to mention one group, former slaves?\"\n",
            " 'The original Homophobia in the Black Diasporic community article is god awful.  So I moved that articles information here.'\n",
            " 'refuse to be open to other people and ideas'\n",
            " 'The anus is, in fact, part of the penis.'\n",
            " 'whoever decided to be an idiot with this shared IP.'\n",
            " \"He vandalises lots of pages regularly. It's frustrating if he is adding useful info to cricket stuff, but most of what he does is a deliberate, malicious annoyance and I don't like the idea of encouraging him by promoting his articles  especially if he's the only source for them. Most of the stuff he does is absurdly trivial anyway; tiny stubs on non-notable cricketers.\"]\n",
            "[0 0 0 0 0 0 0 0 0 0 1 0 0]\n"
          ],
          "name": "stdout"
        }
      ]
    }
  ]
}