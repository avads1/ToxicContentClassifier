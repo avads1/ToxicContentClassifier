{
  "nbformat": 4,
  "nbformat_minor": 0,
  "metadata": {
    "kernelspec": {
      "display_name": "Python 3",
      "language": "python",
      "name": "python3"
    },
    "language_info": {
      "codemirror_mode": {
        "name": "ipython",
        "version": 3
      },
      "file_extension": ".py",
      "mimetype": "text/x-python",
      "name": "python",
      "nbconvert_exporter": "python",
      "pygments_lexer": "ipython3",
      "version": "3.7.6"
    },
    "colab": {
      "name": "1_SVM_Colab.ipynb",
      "provenance": [],
      "collapsed_sections": []
    }
  },
  "cells": [
    {
      "cell_type": "code",
      "metadata": {
        "id": "uxvj9NuGqNnC",
        "colab_type": "code",
        "colab": {}
      },
      "source": [
        "#SVM"
      ],
      "execution_count": 0,
      "outputs": []
    },
    {
      "cell_type": "code",
      "metadata": {
        "id": "-tg7tVPsqNnN",
        "colab_type": "code",
        "colab": {}
      },
      "source": [
        "import numpy as np\n",
        "import pandas as pd\n",
        "\n",
        "from sklearn.feature_extraction.text import TfidfVectorizer\n",
        "from sklearn.linear_model import LogisticRegression\n",
        "from sklearn.model_selection import cross_val_score\n",
        "from sklearn.model_selection import train_test_split\n",
        "\n",
        "class_names = ['toxic']\n",
        "\n",
        "train = pd.read_csv('train.csv').fillna(' ')\n",
        "test = pd.read_csv('test.csv').fillna(' ')\n",
        "\n",
        "train_text = train['comment_text']\n",
        "test_text = test['comment_text']\n",
        "all_text = pd.concat([train_text, test_text])\n",
        "\n",
        "word_vectorizer = TfidfVectorizer(\n",
        "    sublinear_tf=True,\n",
        "    strip_accents='unicode',\n",
        "    analyzer='word',\n",
        "    token_pattern=r'\\w{1,}',\n",
        "    stop_words='english',\n",
        "    ngram_range=(1, 1),\n",
        "    max_features=10000)\n",
        "word_vectorizer.fit(all_text)\n",
        "train_features = word_vectorizer.transform(train_text)\n",
        "test_features = word_vectorizer.transform(test_text)\n",
        "\n",
        "train_target = train['toxic']\n",
        "\n",
        "X_train, X_test, Y_train, Y_test = train_test_split( train_features, train_target, test_size=0.2, random_state=42)"
      ],
      "execution_count": 0,
      "outputs": []
    },
    {
      "cell_type": "code",
      "metadata": {
        "id": "1C0LxqwYqNnU",
        "colab_type": "code",
        "outputId": "c2e91287-2489-44f1-efaa-c31acc1830b7",
        "colab": {
          "base_uri": "https://localhost:8080/",
          "height": 87
        }
      },
      "source": [
        "from sklearn import svm\n",
        "from sklearn.model_selection import GridSearchCV\n",
        "from sklearn.metrics import confusion_matrix, roc_curve, roc_auc_score, classification_report, accuracy_score, precision_recall_fscore_support\n",
        "\n",
        "svm_model = svm.SVC(C = 0.1, kernel = 'linear')\n",
        "svm_model.fit(X_train, Y_train)"
      ],
      "execution_count": 0,
      "outputs": [
        {
          "output_type": "execute_result",
          "data": {
            "text/plain": [
              "SVC(C=0.1, break_ties=False, cache_size=200, class_weight=None, coef0=0.0,\n",
              "    decision_function_shape='ovr', degree=3, gamma='scale', kernel='linear',\n",
              "    max_iter=-1, probability=False, random_state=None, shrinking=True,\n",
              "    tol=0.001, verbose=False)"
            ]
          },
          "metadata": {
            "tags": []
          },
          "execution_count": 2
        }
      ]
    },
    {
      "cell_type": "code",
      "metadata": {
        "id": "CzfzwOo9qNna",
        "colab_type": "code",
        "outputId": "fe045f44-9ef7-48ce-b8b5-defe935b0a48",
        "colab": {
          "base_uri": "https://localhost:8080/",
          "height": 317
        }
      },
      "source": [
        "predictions = svm_model.predict(X_test)\n",
        "print(\"accuracy {}\".format(accuracy_score(Y_test,predictions)));\n",
        "print(classification_report(Y_test, predictions))\n",
        "pd.DataFrame(confusion_matrix(Y_test, predictions),\n",
        "   index = [['Actual', 'Actual'], ['Not Toxic', 'Toxic']],\n",
        "   columns = [['Predicted', 'Predicted'], ['Not Toxic', 'Toxic']])"
      ],
      "execution_count": 0,
      "outputs": [
        {
          "output_type": "stream",
          "text": [
            "accuracy 0.9496161679461068\n",
            "              precision    recall  f1-score   support\n",
            "\n",
            "           0       0.95      1.00      0.97     28859\n",
            "           1       0.96      0.50      0.65      3056\n",
            "\n",
            "    accuracy                           0.95     31915\n",
            "   macro avg       0.95      0.75      0.81     31915\n",
            "weighted avg       0.95      0.95      0.94     31915\n",
            "\n"
          ],
          "name": "stdout"
        },
        {
          "output_type": "execute_result",
          "data": {
            "text/html": [
              "<div>\n",
              "<style scoped>\n",
              "    .dataframe tbody tr th:only-of-type {\n",
              "        vertical-align: middle;\n",
              "    }\n",
              "\n",
              "    .dataframe tbody tr th {\n",
              "        vertical-align: top;\n",
              "    }\n",
              "\n",
              "    .dataframe thead tr th {\n",
              "        text-align: left;\n",
              "    }\n",
              "</style>\n",
              "<table border=\"1\" class=\"dataframe\">\n",
              "  <thead>\n",
              "    <tr>\n",
              "      <th></th>\n",
              "      <th></th>\n",
              "      <th colspan=\"2\" halign=\"left\">Predicted</th>\n",
              "    </tr>\n",
              "    <tr>\n",
              "      <th></th>\n",
              "      <th></th>\n",
              "      <th>Not Toxic</th>\n",
              "      <th>Toxic</th>\n",
              "    </tr>\n",
              "  </thead>\n",
              "  <tbody>\n",
              "    <tr>\n",
              "      <th rowspan=\"2\" valign=\"top\">Actual</th>\n",
              "      <th>Not Toxic</th>\n",
              "      <td>28788</td>\n",
              "      <td>71</td>\n",
              "    </tr>\n",
              "    <tr>\n",
              "      <th>Toxic</th>\n",
              "      <td>1537</td>\n",
              "      <td>1519</td>\n",
              "    </tr>\n",
              "  </tbody>\n",
              "</table>\n",
              "</div>"
            ],
            "text/plain": [
              "                 Predicted      \n",
              "                 Not Toxic Toxic\n",
              "Actual Not Toxic     28788    71\n",
              "       Toxic          1537  1519"
            ]
          },
          "metadata": {
            "tags": []
          },
          "execution_count": 3
        }
      ]
    },
    {
      "cell_type": "code",
      "metadata": {
        "id": "RpTPCwHXuzKk",
        "colab_type": "code",
        "outputId": "7af8e02f-13a1-44f1-e6c4-7926e2ebd8b6",
        "colab": {
          "base_uri": "https://localhost:8080/",
          "height": 283
        }
      },
      "source": [
        "import pandas as pd\n",
        "data = pd.read_csv('/content/TestFile.csv')\n",
        "\n",
        "data = data.values\n",
        "X_train = data[0:14,0]\n",
        "\n",
        "print(X_train)\n",
        "\n",
        "encoded = word_vectorizer.transform(X_train)\n",
        "\n",
        "predictions = svm_model.predict(encoded)\n",
        "\n",
        "for i in range(len(predictions)):\n",
        "    if predictions[i]>0.5:\n",
        "        predictions[i] = 1\n",
        "    else:\n",
        "        predictions[i] = 0\n",
        "\n",
        "print(predictions)"
      ],
      "execution_count": 0,
      "outputs": [
        {
          "output_type": "stream",
          "text": [
            "['I do not think you are a bad human being your circumstances made you that '\n",
            " 'He had killed many people in the past and would continue to kill if we do not do somehing about it'\n",
            " 'You need some help, his retaeded brother was brave enough to serve in the military '\n",
            " 'The word fuck is very inappropriate please refrain from using. It leaves a bad impression.'\n",
            " 'The murder rates for those cities are high I would suggest looking after your family. These psychopaths are dagerous, keep yourself safe.'\n",
            " 'In a time were rape and harassment are widespread, we need to stand up againt the bullies.'\n",
            " 'I will kill your faimily, nice good wonderful.'\n",
            " \"Slavery is forbidden in Islam?  That seems to run counter to history.  Weren't the Mamluks, simply to mention one group, former slaves?\"\n",
            " 'The original Homophobia in the Black Diasporic community article is god awful.  So I moved that articles information here.'\n",
            " 'refuse to be open to other people and ideas'\n",
            " 'The anus is, in fact, part of the penis.'\n",
            " 'whoever decided to be an idiot with this shared IP.'\n",
            " \"He vandalises lots of pages regularly. It's frustrating if he is adding useful info to cricket stuff, but most of what he does is a deliberate, malicious annoyance and I don't like the idea of encouraging him by promoting his articles  especially if he's the only source for them. Most of the stuff he does is absurdly trivial anyway; tiny stubs on non-notable cricketers.\"]\n",
            "[0 0 0 1 0 0 0 0 0 0 1 1 0]\n"
          ],
          "name": "stdout"
        }
      ]
    }
  ]
}